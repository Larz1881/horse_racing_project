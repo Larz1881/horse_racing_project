{
 "cells": [
  {
   "cell_type": "code",
   "execution_count": null,
   "id": "bc14e716",
   "metadata": {
    "vscode": {
     "languageId": "plaintext"
    }
   },
   "outputs": [],
   "source": [
    "{\n",
    " \"cells\": [\n",
    "  {\n",
    "   \"cell_type\": \"markdown\",\n",
    "   \"metadata\": {},\n",
    "   \"source\": \"# Data Exploration Notebook\"\n",
    "  },\n",
    "  {\n",
    "   \"cell_type\": \"code\",\n",
    "   \"execution_count\": null,\n",
    "   \"metadata\": {},\n",
    "   \"outputs\": [],\n",
    "   \"source\": \"# Cell 1: Setup\\nimport pandas as pd\\nimport matplotlib.pyplot as plt\\nimport seaborn as sns\\nfrom pathlib import Path\\nimport sys\\n\\n# Add parent directory to path\\nsys.path.append('..')\\nfrom config.settings import *\\nfrom src.utils.data_utils import quick_eda\"\n",
    "  },\n",
    "  {\n",
    "   \"cell_type\": \"code\",\n",
    "   \"execution_count\": null,\n",
    "   \"metadata\": {},\n",
    "   \"outputs\": [],\n",
    "   \"source\": \"# Cell 2: Load all data\\ncurrent_df = pd.read_parquet(CURRENT_RACE_INFO)\\nworkouts_df = pd.read_parquet(WORKOUTS_LONG)\\npast_starts_df = pd.read_parquet(PAST_STARTS_LONG)\\n\\nprint(\\\"Data loaded successfully!\\\")\\nprint(f\\\"Current races: {current_df.shape}\\\")\\nprint(f\\\"Workouts: {workouts_df.shape}\\\")\\nprint(f\\\"Past starts: {past_starts_df.shape}\\\")\"\n",
    "  },\n",
    "  {\n",
    "   \"cell_type\": \"code\",\n",
    "   \"execution_count\": null,\n",
    "   \"metadata\": {},\n",
    "   \"outputs\": [],\n",
    "   \"source\": \"# Cell 3: Current race analysis\\nquick_eda(current_df, \\\"Current Race Info\\\")\"\n",
    "  },\n",
    "  {\n",
    "   \"cell_type\": \"code\",\n",
    "   \"execution_count\": null,\n",
    "   \"metadata\": {},\n",
    "   \"outputs\": [],\n",
    "   \"source\": \"# Cell 4: Visualizations\\n# (Move the histogram code from load_analysis_data.py here)\\n# Example: \\n# if 'some_numeric_column' in current_df.columns:\\n#     plt.figure(figsize=(10, 6))\\n#     sns.histplot(current_df['some_numeric_column'].dropna(), kde=True)\\n#     plt.title('Distribution of Some Numeric Column')\\n#     plt.xlabel('Value')\\n#     plt.ylabel('Frequency')\\n#     plt.show()\\n# else:\\n#     print(\\\"'some_numeric_column' not found in current_df for visualization.\\\")\"\n",
    "  }\n",
    " ],\n",
    " \"metadata\": {\n",
    "  \"kernelspec\": {\n",
    "   \"display_name\": \"Python 3\",\n",
    "   \"language\": \"python\",\n",
    "   \"name\": \"python3\"\n",
    "  },\n",
    "  \"language_info\": {\n",
    "   \"codemirror_mode\": {\n",
    "    \"name\": \"ipython\",\n",
    "    \"version\": 3\n",
    "   },\n",
    "   \"file_extension\": \".py\",\n",
    "   \"mimetype\": \"text/x-python\",\n",
    "   \"name\": \"python\",\n",
    "   \"nbconvert_exporter\": \"python\",\n",
    "   \"pygments_lexer\": \"ipython3\",\n",
    "   \"version\": \"3.x.y\"\n",
    "  }\n",
    " },\n",
    " \"nbformat\": 4,\n",
    " \"nbformat_minor\": 2\n",
    "}"
   ]
  }
 ],
 "metadata": {
  "language_info": {
   "name": "python"
  }
 },
 "nbformat": 4,
 "nbformat_minor": 5
}
